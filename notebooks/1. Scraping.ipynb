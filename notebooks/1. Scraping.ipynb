{
 "cells": [
  {
   "cell_type": "code",
   "execution_count": 245,
   "metadata": {},
   "outputs": [],
   "source": [
    "\"\"\" import libraries \"\"\"\n",
    "from urllib.request import urlopen\n",
    "from bs4 import BeautifulSoup\n",
    "import lxml\n",
    "import requests\n",
    "import re\n",
    "import pandas as pd"
   ]
  },
  {
   "cell_type": "code",
   "execution_count": 67,
   "metadata": {},
   "outputs": [
    {
     "name": "stdout",
     "output_type": "stream",
     "text": [
      "231\n"
     ]
    }
   ],
   "source": [
    "\"\"\"initialise a session\"\"\" \n",
    "\n",
    "# load the landing page\n",
    "landing_page = \"https://www.bbc.co.uk/programmes/b006qnmr/episodes/player?page={}\"\n",
    "html = requests.get(landing_page.format(1))\n",
    "soup = BeautifulSoup(html.content, 'html.parser')\n",
    "\n",
    "# now find the number of pages\n",
    "npages = int(soup.find('li', {\"class\": \"pagination__page--last\"}).find('a').text)\n",
    "print(npages)"
   ]
  },
  {
   "cell_type": "code",
   "execution_count": 116,
   "metadata": {},
   "outputs": [
    {
     "name": "stdout",
     "output_type": "stream",
     "text": [
      "0.995689655172413875\r"
     ]
    }
   ],
   "source": [
    "\"\"\" run through the pages and fetch title and url_list \"\"\" \n",
    "title_list = []\n",
    "title_url_list = []\n",
    "\n",
    "for page in range(1, npages+1):\n",
    "    html = requests.get(landing_page.format(page))\n",
    "    soup = BeautifulSoup(html.content, 'html.parser')\n",
    "    \n",
    "    for title in soup.find_all('h2', class_='programme__titles'):\n",
    "        title_list.append(title.text)\n",
    "        for href in title:\n",
    "            title_url_list.append(href['href'])\n",
    "        print((page)/(npages + 1), end='\\r')"
   ]
  },
  {
   "cell_type": "code",
   "execution_count": 249,
   "metadata": {},
   "outputs": [
    {
     "name": "stdout",
     "output_type": "stream",
     "text": [
      "1.0995670995670995543\r"
     ]
    }
   ],
   "source": [
    "\"\"\" now run through the different episodes \"\"\" \n",
    "\n",
    "DF = pd.DataFrame(columns = ['guest', 'artist', 'track', 'label', 'presenter', 'producer', 'book_choice', 'luxury_item', 'favourite', 'synopsis'])\n",
    "for ep in range(1, len(title_url_list)+1):\n",
    "    html = requests.get(title_url_list[0])\n",
    "    soup = BeautifulSoup(html.content, 'html.parser')\n",
    "\n",
    "    for entry in soup.find_all('p'):\n",
    "        if 'Presenter' in entry.text:\n",
    "            [presenter, producer] = entry.text[11:].split('Producer: ')\n",
    "    #         print(f\"Presenter was: {Presenter}, Producer was: {Producer}\")\n",
    "            break\n",
    "\n",
    "    for entry in soup.find_all('p'):\n",
    "        if 'BOOK CHOICE' in entry.text:\n",
    "            [book_choice, luxury_item, favourite] = re.split(\"LUXURY ITEM: |CASTAWAY'S FAVOURITE: \", entry.text[13:])\n",
    "            break\n",
    "\n",
    "    synopsis = \"\"\n",
    "    for entry in soup.find_all(class_='synopsis-toggle__long'):\n",
    "        synopsis += entry.text\n",
    "    \n",
    "    for segment in soup.find_all(class_='segment segment--music'):\n",
    "        artist = segment.find(class_='artist').text\n",
    "        track = segment.find_all(class_='no-margin')[1].find('span').text\n",
    "        label = segment.find('abbr').text\n",
    "        DF = DF.append({'guest': title_list[ep-1]\n",
    "                          'artist': artist, \n",
    "                          'track': track, \n",
    "                          'label':label, \n",
    "                          'presenter':presenter, \n",
    "                          'producer':producer, \n",
    "                          'book_choice':book_choice, \n",
    "                          'luxury_item':luxury_item, \n",
    "                          'favourite':favourite, \n",
    "                          'synopsis':synopsis}, ignore_index=True)\n",
    "        \n",
    "    print((ep)/(len(title_url_list) + 1), end='\\r')\n",
    "        "
   ]
  },
  {
   "cell_type": "code",
   "execution_count": 259,
   "metadata": {},
   "outputs": [
    {
     "data": {
      "text/html": [
       "<div>\n",
       "<style scoped>\n",
       "    .dataframe tbody tr th:only-of-type {\n",
       "        vertical-align: middle;\n",
       "    }\n",
       "\n",
       "    .dataframe tbody tr th {\n",
       "        vertical-align: top;\n",
       "    }\n",
       "\n",
       "    .dataframe thead th {\n",
       "        text-align: right;\n",
       "    }\n",
       "</style>\n",
       "<table border=\"1\" class=\"dataframe\">\n",
       "  <thead>\n",
       "    <tr style=\"text-align: right;\">\n",
       "      <th></th>\n",
       "      <th>guest</th>\n",
       "      <th>artist</th>\n",
       "      <th>track</th>\n",
       "      <th>label</th>\n",
       "      <th>presenter</th>\n",
       "      <th>producer</th>\n",
       "      <th>book_choice</th>\n",
       "      <th>luxury_item</th>\n",
       "      <th>favourite</th>\n",
       "      <th>synopsis</th>\n",
       "    </tr>\n",
       "  </thead>\n",
       "  <tbody>\n",
       "    <tr>\n",
       "      <th>count</th>\n",
       "      <td>0</td>\n",
       "      <td>18472</td>\n",
       "      <td>18472</td>\n",
       "      <td>18472</td>\n",
       "      <td>18472</td>\n",
       "      <td>18472</td>\n",
       "      <td>18472</td>\n",
       "      <td>18472</td>\n",
       "      <td>18472</td>\n",
       "      <td>18472</td>\n",
       "    </tr>\n",
       "    <tr>\n",
       "      <th>unique</th>\n",
       "      <td>0</td>\n",
       "      <td>8</td>\n",
       "      <td>8</td>\n",
       "      <td>7</td>\n",
       "      <td>1</td>\n",
       "      <td>1</td>\n",
       "      <td>1</td>\n",
       "      <td>1</td>\n",
       "      <td>1</td>\n",
       "      <td>1</td>\n",
       "    </tr>\n",
       "    <tr>\n",
       "      <th>top</th>\n",
       "      <td>NaN</td>\n",
       "      <td>John Legend</td>\n",
       "      <td>It Is Well With My Soul</td>\n",
       "      <td>Sony Music Entertainment UK Ltd.</td>\n",
       "      <td>Lauren Laverne</td>\n",
       "      <td>Paula McGinley</td>\n",
       "      <td>Who Moved My Cheese? by Dr Spencer Johnson</td>\n",
       "      <td>Quality Street chocolates</td>\n",
       "      <td>It Is Well With My Soul by Wintley Phipps</td>\n",
       "      <td>\\nAmanda Khozi Mukwashi is the chief executive...</td>\n",
       "    </tr>\n",
       "    <tr>\n",
       "      <th>freq</th>\n",
       "      <td>NaN</td>\n",
       "      <td>2309</td>\n",
       "      <td>2309</td>\n",
       "      <td>4618</td>\n",
       "      <td>18472</td>\n",
       "      <td>18472</td>\n",
       "      <td>18472</td>\n",
       "      <td>18472</td>\n",
       "      <td>18472</td>\n",
       "      <td>18472</td>\n",
       "    </tr>\n",
       "  </tbody>\n",
       "</table>\n",
       "</div>"
      ],
      "text/plain": [
       "       guest       artist                    track  \\\n",
       "count      0        18472                    18472   \n",
       "unique     0            8                        8   \n",
       "top      NaN  John Legend  It Is Well With My Soul   \n",
       "freq     NaN         2309                     2309   \n",
       "\n",
       "                                    label       presenter        producer  \\\n",
       "count                               18472           18472           18472   \n",
       "unique                                  7               1               1   \n",
       "top     Sony Music Entertainment UK Ltd.   Lauren Laverne  Paula McGinley   \n",
       "freq                                 4618           18472           18472   \n",
       "\n",
       "                                       book_choice  \\\n",
       "count                                        18472   \n",
       "unique                                           1   \n",
       "top     Who Moved My Cheese? by Dr Spencer Johnson   \n",
       "freq                                         18472   \n",
       "\n",
       "                       luxury_item  \\\n",
       "count                        18472   \n",
       "unique                           1   \n",
       "top     Quality Street chocolates    \n",
       "freq                         18472   \n",
       "\n",
       "                                         favourite  \\\n",
       "count                                        18472   \n",
       "unique                                           1   \n",
       "top     It Is Well With My Soul by Wintley Phipps    \n",
       "freq                                         18472   \n",
       "\n",
       "                                                 synopsis  \n",
       "count                                               18472  \n",
       "unique                                                  1  \n",
       "top     \\nAmanda Khozi Mukwashi is the chief executive...  \n",
       "freq                                                18472  "
      ]
     },
     "execution_count": 259,
     "metadata": {},
     "output_type": "execute_result"
    }
   ],
   "source": [
    "DF.describe()"
   ]
  }
 ],
 "metadata": {
  "kernelspec": {
   "display_name": "DesertIslandDiscs",
   "language": "python",
   "name": "desertislanddiscs"
  },
  "language_info": {
   "codemirror_mode": {
    "name": "ipython",
    "version": 3
   },
   "file_extension": ".py",
   "mimetype": "text/x-python",
   "name": "python",
   "nbconvert_exporter": "python",
   "pygments_lexer": "ipython3",
   "version": "3.7.4"
  }
 },
 "nbformat": 4,
 "nbformat_minor": 4
}
